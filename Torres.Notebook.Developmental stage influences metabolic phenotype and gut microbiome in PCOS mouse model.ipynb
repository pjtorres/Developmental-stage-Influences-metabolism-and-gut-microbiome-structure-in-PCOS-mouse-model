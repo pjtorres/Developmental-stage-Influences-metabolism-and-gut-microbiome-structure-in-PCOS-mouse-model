{
 "cells": [
  {
   "cell_type": "markdown",
   "metadata": {},
   "source": [
    "# Developmental Stage Influences Gut Microbiome Community Structure and Metabolism in a Hyperandrogenic Mouse Model of Polycystic Ovary Syndrome. Torres et al."
   ]
  },
  {
   "cell_type": "markdown",
   "metadata": {},
   "source": [
    "##### Sequence Data for this project was done on two different runs: submitted the same day, but sequenced on different days. Because the same barcoded primer set was used in both runs, we must first demultiplex the reads. Then those resulting (demultiplexed) reads may be merged and filtered based on study.   "
   ]
  },
  {
   "cell_type": "markdown",
   "metadata": {},
   "source": [
    "#### This analysis only uses the R1 (forward reads) read in order to replicate the strategies and methods used in 'The Gut Microbiome Is Altered in a Letrozole Induced Mouse Model of Polycystic Ovary Syndrome' -Kelley et al (http://journals.plos.org/plosone/article?id=10.1371/journal.pone.0146509) - and compare the results "
   ]
  },
  {
   "cell_type": "markdown",
   "metadata": {},
   "source": [
    "### We were not given a barcode.fq file (these are embedded in the raw fastq files). A work around was to first convert our fastq to fataqual on QIIME (http://qiime.org/scripts/convert_fastaqual_fastq.html)#\\\n",
    "#cd /home/skelley/PCOS_QIIME/8_week_mice/"
   ]
  },
  {
   "cell_type": "code",
   "execution_count": null,
   "metadata": {
    "collapsed": true
   },
   "outputs": [],
   "source": [
    "#Part 1 of sequencing run 6_20_16\n",
    "!convert_fastaqual_fastq.py -c fastq_to_fastaqual -f /Volumes/PBD/PCOS.PhD/PCOS_illumina_raw_CHptt6_20_16/Kina-pool-1_S1_L001_R1_001.fastq -o /Volumes/PBD/PCOS.PhD/PCOS_not_merged_6_20_16/fastaqual "
   ]
  },
  {
   "cell_type": "code",
   "execution_count": null,
   "metadata": {
    "collapsed": true
   },
   "outputs": [],
   "source": [
    "#Part 2 of sequencing run 7_14_16\n",
    "!convert_fastaqual_fastq.py -c fastq_to_fastaqual -f /Volumes/PBD/PCOS.PhD/PCOS_illumina_raw_CHpt2.7.14.16/Kina-run2_S1_L001_R1_001.fastq -o /Volumes/PBD/PCOS.PhD/PCOS_not_merged_7_14_16/fastaqual_7_14_16   "
   ]
  },
  {
   "cell_type": "markdown",
   "metadata": {},
   "source": [
    "## Use new fasta file and use split_libraries.py – Split libraries according to barcodes specified in mapping file\n",
    "```mapping file names are: Run_6_20_16_ T0_T3_mappingfile.txt and Run_714_16_Mapping_file_T3_T5.txt```"
   ]
  },
  {
   "cell_type": "code",
   "execution_count": null,
   "metadata": {
    "collapsed": true
   },
   "outputs": [],
   "source": [
    "#6-20-16\n",
    "!split_libraries.py -m Run_6_20_16_ T0_T3_mappingfile.txt -f PCOS_not_merged_6_20_16/fastaqual/Kina-pool-1_S1_L001_R1_001.fna -q PCOS_not_merged_6_20_16/fastaqual/Kina-pool-1_S1_L001_R1_001.qual -o split_libraries_output_6_20_16/\n",
    "#7-14-16\n",
    "!split_libraries.py -m Run_714_16_Mapping_file_T3_T5.txt -f PCOS_not_merged_7_14_16/fastaqual/Kina-pool-1_S1_L001_R1_001.fna -q PCOS_not_merged_7_14_16/fastaqual/Kina-pool-1_S1_L001_R1_001.qual -o split_libraries_output_7_14_16/"
   ]
  },
  {
   "cell_type": "markdown",
   "metadata": {},
   "source": [
    "### Merged resulting fna tables and the two mapping files corresponding to the two sequencing runs"
   ]
  },
  {
   "cell_type": "code",
   "execution_count": null,
   "metadata": {
    "collapsed": true
   },
   "outputs": [],
   "source": [
    "cat 6_20_16_not_merged/split_libraries_output_6_20_16/seqs.fna 7_14_16_not_merged/split_output_7_14_16/seqs.fna >> merged_fna/merged.fna\n",
    "\n",
    "# merge two mapping files\n",
    "!merge_mapping_files.py -m PCOS_not_merged_6_20_16/Run_6_20_16_T0_T3_mappingfile.txt,PCOS_not_merged_7_14_16/Run_714_16_Mapping_file_T3.T5.txt -o merged_mapping.txt -n 'Data not collected'"
   ]
  },
  {
   "cell_type": "markdown",
   "metadata": {},
   "source": [
    "### Filter out all adult PCOS samples. They are listed the mapping file as 'kina_exp' under 'study'.\n",
    "#### Manually removed any study listed as 'CH' in the mapping file and only left those labeled 'kina_exp'. Mapping file went from 288 rows to 96. Modified mapping file named: mapping_file_kina.txt"
   ]
  },
  {
   "cell_type": "markdown",
   "metadata": {},
   "source": [
    "#### Keep samples from the merged fna table that are in mapping_file_kina.txt aka week 8 (adult) mouse model study\n",
    "#Keep all sequences that show up in an OTU map.(http://qiime.org/scripts/filter_fasta.html)"
   ]
  },
  {
   "cell_type": "markdown",
   "metadata": {},
   "source": [
    "### Filter out non-Adult PCOS Mice"
   ]
  },
  {
   "cell_type": "code",
   "execution_count": null,
   "metadata": {
    "collapsed": true
   },
   "outputs": [],
   "source": [
    "# fitler using this command\n",
    "!filter_fasta.py -f merged_fna/merged.fna -o 8week/merged_sfiltered.fasta -m mapping_file_kina.txt"
   ]
  },
  {
   "cell_type": "markdown",
   "metadata": {},
   "source": [
    "### Pick DeNovo OTUs"
   ]
  },
  {
   "cell_type": "code",
   "execution_count": null,
   "metadata": {
    "collapsed": true
   },
   "outputs": [],
   "source": [
    "!pick_de_novo_otus.py -a -O 4 -i 8week/merged_sfiltered.fasta -o otus_8week_de_novo"
   ]
  },
  {
   "cell_type": "markdown",
   "metadata": {},
   "source": [
    "### Filter OTU table (Same as 'The Gut Microbiome Is Altered in a Letrozole-Induced Mouse Model of Polycystic Ovary Syndrome'  Kelley et al. paper) : OTUs must be found in a minimum of 40 samples "
   ]
  },
  {
   "cell_type": "code",
   "execution_count": null,
   "metadata": {
    "collapsed": true
   },
   "outputs": [],
   "source": [
    "!filter_otus_from_otu_table.py -s 40 -i otu_table.biom -o otu_table_filtered40_8week.biom"
   ]
  },
  {
   "cell_type": "code",
   "execution_count": null,
   "metadata": {
    "collapsed": true
   },
   "outputs": [],
   "source": [
    "# filtered out samples 50 and 53 from further analysis since they did not have an increase in testosterone, which is indicative of letrozole pellet working properly. So added NA to those samples in the mapping file and then filtered it with the following commands\n",
    "!filter_samples_from_otu_table.py -i otu_table_filtered40_8week.biom -m mapping_file_kina_NA50_53.txt -s 'Treatment:*,!NA' -o otu_table_filtered40_8week_no_50_53.biom --output_mapping_fp mapping_file_kina_dropped_samples.txt\n",
    "\n",
    "#changed otu_table_filtered40_8week_no_50_53.biom back to otu_table_filtered40_8week.biom\n",
    "mv otu_table_filtered40_8week_no_50_53.biom otu_table_filtered40_8week.biom"
   ]
  },
  {
   "cell_type": "code",
   "execution_count": null,
   "metadata": {
    "collapsed": true
   },
   "outputs": [],
   "source": [
    "!biom summarize-table -i otu_table_filtered40_8week.biom -o otu_table_filtered40_8week_summary.txt\n",
    "\n",
    "\"\"\"Num samples: 84 - dropped 50 and 53 from this analyses since they did not have an increase in testosterone\n",
    "Num observations: 1155\n",
    "Total count: 4350802\n",
    "Table density (fraction of non-zero values): 0.721\n",
    "\n",
    "Counts/sample summary:\n",
    " Min: 7155.0\n",
    " Max: 129326.0\n",
    " Median: 49746.000\n",
    " Mean: 51795.262\n",
    " Std. dev.: 27946.143\n",
    " Sample Metadata Categories: None provided\n",
    " Observation Metadata Categories: taxonomy\n",
    " Lowest sequencing depth is 49.T0: 7155.0\"\"\""
   ]
  },
  {
   "cell_type": "markdown",
   "metadata": {},
   "source": [
    "### Filter out singletons"
   ]
  },
  {
   "cell_type": "code",
   "execution_count": null,
   "metadata": {
    "collapsed": true
   },
   "outputs": [],
   "source": [
    "# filter singletons\n",
    "!filter_otus_from_otu_table.py -i otus_8week_de_novo/otu_table_filtered40_8week.biom -o otus_8week_de_novo/otu_table_filtered40_8week_rmsingletons.biom -n 2"
   ]
  },
  {
   "cell_type": "markdown",
   "metadata": {},
   "source": [
    "### Summarize taxa through plots"
   ]
  },
  {
   "cell_type": "code",
   "execution_count": null,
   "metadata": {
    "collapsed": true
   },
   "outputs": [],
   "source": [
    "# Summarize based on treatment\n",
    "!summarize_taxa_through_plots.py -i otus_8week_de_novo/otu_table_filtered40_8week_rmsingletons.biom -o taxa_summary_treatment -m mapping_file_kina_dropped_samples.txt -c Treatment -s\n",
    "#summarize based on treatment and time (weeks)\n",
    "!summarize_taxa_through_plots.py -i otus_8week_de_novo/otu_table_filtered40_8week_rmsingletons.biom -o taxa_summary_treatmenttime -m mapping_file_kina_dropped_samples.txt -c treatment_time -s\n",
    "\n",
    "\n",
    "# rarefy taxa to 7000\n",
    "!single_rarefaction.py -i otus_8week_de_novo/otu_table_filtered40_8week_rmsingletons.biom -o otus_8week_de_novo/otu_table_filtered40_8week_rmsingletons_e7000.biom -d 7000\n",
    "# summarize taxa rarefied 7000\n",
    "!summarize_taxa_through_plots.py -i otus_8week_de_novo/otu_table_filtered40_8week_rmsingletons_e7000.biom -o taxa_summary_treatmentE7000 -m mapping_file_kina_dropped_samples.txt -c treatment_time -s -f"
   ]
  },
  {
   "cell_type": "markdown",
   "metadata": {},
   "source": [
    "### Alpha Diversity ( Full alpha diversity analysis can be found in R folder) "
   ]
  },
  {
   "cell_type": "code",
   "execution_count": null,
   "metadata": {
    "collapsed": true
   },
   "outputs": [],
   "source": [
    "!alpha_diversity.py -i otus_8week_de_novo/otu_table_filtered40_8week_rmsingletons.biom -o alpha_diversity.txt -t otus_8week_de_novo/rep_set.tre \n",
    "# add alpha diversity to the mapping file\n",
    "!add_alpha_to_mapping_file.py -i alpha_diversity.txt -m mapping_file_kina_dropped_samples.txt -o mapping_file_kina_dropped_samples_alphaDiv.tsv\n",
    "# later added the simpsons diversity analysis and equitability\n",
    "!alpha_diversity.py -i otus_8week_de_novo/otu_table_filtered40_8week_rmsingletons.biom -o simpson_equitabilitydiversity.txt -t otus_8week_de_novo/rep_set.tre -m equitability,simpson\n",
    " #add to mappig file\n",
    "!add_alpha_to_mapping_file.py -i simpson_equitabilitydiversity.txt -m mapping_file_kina_dropped_samples.txt -o mapping_file_kina_dropped_samples_alphaDiv.tsv"
   ]
  },
  {
   "cell_type": "markdown",
   "metadata": {},
   "source": [
    "## Alpha diversity plot using the above data was done in R and will be under the Alpha_diversity folder"
   ]
  },
  {
   "cell_type": "markdown",
   "metadata": {},
   "source": [
    "### Beta diversity and ANOSIM post-treatment (no time 0) ( Letrozole:36  Placebo  :48  )"
   ]
  },
  {
   "cell_type": "code",
   "execution_count": null,
   "metadata": {
    "collapsed": true
   },
   "outputs": [],
   "source": [
    "# filter time 0\n",
    "!filter_samples_from_otu_table.py -i otus_8week_de_novo/otu_table_filtered40_8week_rmsingletons.biom -m mapping_file_kina_dropped_samples.txt -s 'time:*,!0' -o otu_table_filtered40_rmsingletons_postTreatment.biom --output_mapping_fp mapping_file_kina_dropped_samples_postTreatment.txt\n",
    "#beta diversity\n",
    "!beta_diversity_through_plots.py -i otu_table_filtered40_rmsingletons_postTreatment.biom -m mapping_file_kina_dropped_samples_postTreatment.txt -t otus_8week_de_novo/rep_set.tre --color_by_all_fields -o beta_div_minus_time0_sd146/ -e 146\n",
    "\n",
    "\"\"\"The result contains negative eigenvalues. Please compare their magnitude with the magnitude of some of the largest positive eigenvalues. If the negative ones are smaller, it's probably safe to ignore them, but if they are large in magnitude, the results won't be useful. See the Notes section for more details. \n",
    "The smallest eigenvalue is -0.0736000912521 and the largest is 1.98347378061.\"\"\""
   ]
  },
  {
   "cell_type": "code",
   "execution_count": null,
   "metadata": {
    "collapsed": true
   },
   "outputs": [],
   "source": [
    "#unweighted\n",
    "!compare_categories.py --method anosim -i beta_div_minus_time0_sd146/unweighted_unifrac_dm.txt -m mapping_file_kina_dropped_samples_postTreatment.txt -o anosim_unweighted -c Treatment\n",
    "\"\"\"method name\tANOSIM\n",
    "test statistic name\tR\n",
    "sample size\t70\n",
    "number of groups\t2\n",
    "test statistic\t0.08502743484224963\n",
    "p-value\t0.003\"\"\""
   ]
  },
  {
   "cell_type": "code",
   "execution_count": null,
   "metadata": {
    "collapsed": true
   },
   "outputs": [],
   "source": [
    "#weighted\n",
    "!compare_categories.py --method anosim -i beta_div_minus_time0_sd146/weighted_unifrac_dm.txt -m mapping_file_kina_dropped_samples_postTreatment.txt -o anosim_weighted -c Treatment\n",
    "\n",
    "\"\"\"method name\tANOSIM\n",
    "test statistic name\tR\n",
    "sample size\t70\n",
    "number of groups\t2\n",
    "test statistic\t0.1913388203017832\n",
    "p-value\t0.001\"\"\""
   ]
  },
  {
   "cell_type": "markdown",
   "metadata": {},
   "source": [
    "### 2D beta diversity plots for paper"
   ]
  },
  {
   "cell_type": "code",
   "execution_count": null,
   "metadata": {
    "collapsed": true
   },
   "outputs": [],
   "source": [
    "# unweighted\n",
    "!make_2d_plots.py -i beta_div_minus_time0_sd146/unweighted_unifrac_pc.txt -m mapping_file_kina_dropped_samples_postTreatment.txt -o 2d_plots_sd146/\n",
    "#weighted\n",
    "! make_2d_plots.py -i beta_div_minus_time0_sd146/weighted_unifrac_pc.txt -m mapping_file_kina_dropped_samples_postTreatment.txt -o 2d_plots_sd146_weighted/"
   ]
  },
  {
   "cell_type": "markdown",
   "metadata": {},
   "source": [
    "### Data processing for the 8 week PCOS mouse model (Adult) was done exactly as instructed in the Kelley et al. PCOS paper (http://journals.plos.org/plosone/article?id=10.1371/journal.pone.0146509). Merging of the 8 week (Adult) biom file with the 4 week (pubertal) biom file obtained from Kelley et al.  Data files were merged solely to look at the phylum, family and class level. We only compared at high taxonomic levels to circumvent both possible dubious results due to the stochastic nature of OTU picking and the potential taxonomic misclassifications due to sequencing bias."
   ]
  },
  {
   "cell_type": "markdown",
   "metadata": {},
   "source": [
    "### Merge 4 week (pubertal) and 8 week (adult) Biom and Mapping files"
   ]
  },
  {
   "cell_type": "code",
   "execution_count": null,
   "metadata": {
    "collapsed": true
   },
   "outputs": [],
   "source": [
    "#merge biom table\n",
    "!merge_otu_tables.py -i otu_table_filtered_MIN40.biom otu_table_filtered40_8week_rmsingletons.biom -o 4week_8week_merged/merged.biom\n",
    "# merge mapping files\n",
    "!merge_mapping_files.py -i mapping_file_kina_dropped_samples.txt,pcos_mapping.txt -o mapping_file_4and8week.txt"
   ]
  },
  {
   "cell_type": "markdown",
   "metadata": {},
   "source": [
    "### Taxa Plot Summary"
   ]
  },
  {
   "cell_type": "code",
   "execution_count": null,
   "metadata": {
    "collapsed": true
   },
   "outputs": [],
   "source": [
    "#sumamrize taxa plots based on subject id\n",
    "summarize_taxa_through_plots.py -i /Users/Pedro_Torres/Desktop/PCOS_Analysis/PCOS.16S.PhD/4weekand8week/merged.biom -m /Users/Pedro_Torres/Desktop/PCOS_Analysis/PCOS.16S.PhD/4weekand8week/mapping_file_4and8week.txt -o taxa_plots -s\n",
    "\n",
    "#summarize taxa plots- grouped by treatment group ( 4 week Placebo, 4 week Letrozole, 8 wekk Placebo, 8 week Letrozole)\n",
    "!summarize_taxa_through_plots.py -i /Users/Pedro_Torres/Desktop/PCOS_Analysis/PCOS.16S.PhD/4weekand8week/merged.biom -m /Users/Pedro_Torres/Desktop/PCOS_Analysis/PCOS.16S.PhD/4weekand8week/mapping_file_4and8week.txt -o taxa_plots_Treatment.study -c Treatment.study -s"
   ]
  },
  {
   "cell_type": "markdown",
   "metadata": {},
   "source": [
    "#### Group Significance  (this was done at the genus level, L6 file in summarize_taxa, due to too many significant OTUs which made it hard to really see patterns- we thought genus level would help to focus the comparison a bit more). For group significance, heatmap, group significance and randomForest approach, developmental stage samples (aka 8 week vs 4 week) were analyzed separately not as one merged biom file."
   ]
  },
  {
   "cell_type": "markdown",
   "metadata": {},
   "source": [
    "### 8 Week (Adult) Analysis "
   ]
  },
  {
   "cell_type": "code",
   "execution_count": null,
   "metadata": {
    "collapsed": true
   },
   "outputs": [],
   "source": [
    "# filter out 8 week samples\n",
    "!filter_samples_from_otu_table.py -i /Users/Pedro_Torres/Desktop/PCOS_Analysis/PCOS.16S.PhD/4weekand8week/taxa_plots/merged_sorted_L6_min.biom -m /Users/Pedro_Torres/Desktop/PCOS_Analysis/PCOS.16S.PhD/4weekand8week/mapping_file_4and8week.txt -s 'project_name:*,!PCOS Study' -o /Users/Pedro_Torres/Desktop/PCOS_Analysis/PCOS.16S.PhD/4weekand8week/taxa_plots/L6_week8analysis/week8.biom --output_mapping_fp /Users/Pedro_Torres/Desktop/PCOS_Analysis/PCOS.16S.PhD/4weekand8week/taxa_plots/L6_week8analysis/week8mappingfile.txt\n",
    "# group significance - kruskal- wallis\n",
    "!group_significance.py -i /Users/Pedro_Torres/Desktop/PCOS_Analysis/PCOS.16S.PhD/4weekand8week/taxa_plots/L6_week8analysis/week8.biom -m /Users/Pedro_Torres/Desktop/PCOS_Analysis/PCOS.16S.PhD/4weekand8week/taxa_plots/L6_week8analysis/week8mappingfile.txt -c Treatment_study -o /Users/Pedro_Torres/Desktop/PCOS_Analysis/PCOS.16S.PhD/4weekand8week/taxa_plots/L6_week8analysis/kw_week8.txt"
   ]
  },
  {
   "cell_type": "markdown",
   "metadata": {},
   "source": [
    "### 4 Week (Pubertal) Analysis"
   ]
  },
  {
   "cell_type": "code",
   "execution_count": null,
   "metadata": {
    "collapsed": true
   },
   "outputs": [],
   "source": [
    "# filter out 4 week samples\n",
    "!filter_samples_from_otu_table.py -i /Users/Pedro_Torres/Desktop/PCOS_Analysis/PCOS.16S.PhD/4weekand8week/taxa_plots/merged_sorted_L6_min.biom -m /Users/Pedro_Torres/Desktop/PCOS_Analysis/PCOS.16S.PhD/4weekand8week/mapping_file_4and8week.txt -s 'project_name:*,!no_data' -o /Users/Pedro_Torres/Desktop/PCOS_Analysis/PCOS.16S.PhD/4weekand8week/taxa_plots/L6_week4analysis/L6_week4.biom --output_mapping_fp /Users/Pedro_Torres/Desktop/PCOS_Analysis/PCOS.16S.PhD/4weekand8week/taxa_plots/L6_week4analysis/mappingfile_week4.txt\n",
    "# group significance - kuskal - wallis\n",
    "!group_significance.py -i /Users/Pedro_Torres/Desktop/PCOS_Analysis/PCOS.16S.PhD/4weekand8week/taxa_plots/L6_week4analysis/L6_week4.biom -m /Users/Pedro_Torres/Desktop/PCOS_Analysis/PCOS.16S.PhD/4weekand8week/taxa_plots/L6_week4analysis/mappingfile_week4.txt -c Treatment_study -o /Users/Pedro_Torres/Desktop/PCOS_Analysis/PCOS.16S.PhD/4weekand8week/taxa_plots/L6_week4analysis/kw_week4.txt"
   ]
  },
  {
   "cell_type": "markdown",
   "metadata": {},
   "source": [
    "#### Heatmaps and randomForest were done in R studio (v 0.99.893). Both heat map and randomForest are under the 4week_8week_merged folder."
   ]
  }
 ],
 "metadata": {
  "anaconda-cloud": {},
  "kernelspec": {
   "display_name": "Python [conda root]",
   "language": "python",
   "name": "conda-root-py"
  },
  "language_info": {
   "codemirror_mode": {
    "name": "ipython",
    "version": 2
   },
   "file_extension": ".py",
   "mimetype": "text/x-python",
   "name": "python",
   "nbconvert_exporter": "python",
   "pygments_lexer": "ipython2",
   "version": "2.7.12"
  }
 },
 "nbformat": 4,
 "nbformat_minor": 1
}
